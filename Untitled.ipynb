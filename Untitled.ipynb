{
 "cells": [
  {
   "cell_type": "code",
   "execution_count": 4,
   "id": "0f6aaff4-52f0-425c-84f5-313d3d5a7628",
   "metadata": {},
   "outputs": [
    {
     "name": "stdout",
     "output_type": "stream",
     "text": [
      "[2.8655618031779024, 0.0, 0.0]\n",
      "0.2760308504118907\n",
      "3.141592653589793\n",
      "3.141592653589793\n"
     ]
    }
   ],
   "source": [
    "from math import pi, factorial, sqrt\n",
    "\n",
    "# summation (i)\n",
    "total1 = 0.0\n",
    "# summation (ii)\n",
    "total2 = 0.0\n",
    "# summation (iii)\n",
    "total3 = 0.0\n",
    "\n",
    "for n in range(21): \n",
    "    total1 = total1 + (4 * (-1)**n) / (n+1)\n",
    "print([total1, total2, total3])\n",
    "\n",
    "print(abs(pi-total1))\n",
    "print(abs(pi-total2))\n",
    "print(abs(pi-total3))"
   ]
  },
  {
   "cell_type": "code",
   "execution_count": 8,
   "id": "4a83a86b-27a5-4420-b3d2-0c8fe63c58f4",
   "metadata": {},
   "outputs": [
    {
     "name": "stdout",
     "output_type": "stream",
     "text": [
      "[4.0, 2.666666666666667, 3.466666666666667, 2.8952380952380956, 3.3396825396825403, 2.9760461760461765, 3.2837384837384844, 3.017071817071818, 3.2523659347188767, 3.0418396189294032, 3.232315809405594, 3.058402765927333, 3.2184027659273333, 3.0702546177791854, 3.208185652261944, 3.079153394197428, 3.200365515409549, 3.0860798011238346, 3.1941879092319425, 3.09162380666784, 3.189184782277596]\n"
     ]
    }
   ],
   "source": [
    "from math import pi, factorial, sqrt\n",
    "\n",
    "# summation (i)\n",
    "total1 = 0.0\n",
    "list1 = []\n",
    "for n in range(21):\n",
    "    total1 = total1 + (4 * (-1)**n) / (2*n+1)\n",
    "    list1.append(total1)\n",
    "print(list1)"
   ]
  },
  {
   "cell_type": "code",
   "execution_count": null,
   "id": "bd9f68dd-b539-4b75-a89c-7b1b74070aca",
   "metadata": {},
   "outputs": [],
   "source": [
    "from math import sqrt\n",
    "\n",
    "def pyTriple(total):\n",
    "    a,b = 1,1\n",
    "    while(a<total):\n",
    "        while(b<total):\n",
    "            if(a+b+sqrt(a**2+b**2)==total):\n",
    "                print(a,b,sqrt(a**2+b**2),a*b*sqrt(a**2+b**2))\n",
    "                b = b+1\n",
    "            else:\n",
    "                b = b+1\n",
    "        a = a+1\n",
    "        b = 1\n",
    "print(pyTriple(12))"
   ]
  },
  {
   "cell_type": "code",
   "execution_count": 20,
   "id": "48941be5-7d87-4c0c-be43-51e965c57336",
   "metadata": {},
   "outputs": [
    {
     "data": {
      "text/plain": [
       "1"
      ]
     },
     "execution_count": 20,
     "metadata": {},
     "output_type": "execute_result"
    }
   ],
   "source": [
    "from math import sqrt\n",
    "int(sqrt(2))\n"
   ]
  },
  {
   "cell_type": "code",
   "execution_count": 14,
   "id": "c198c2cf-2fb1-4ca3-9bfd-d08160a0c40a",
   "metadata": {},
   "outputs": [
    {
     "data": {
      "text/plain": [
       "1"
      ]
     },
     "execution_count": 14,
     "metadata": {},
     "output_type": "execute_result"
    }
   ],
   "source": [
    "3//2"
   ]
  },
  {
   "cell_type": "code",
   "execution_count": 16,
   "id": "b68e644e-0b92-4399-b5e2-3989f15e1eff",
   "metadata": {},
   "outputs": [
    {
     "data": {
      "text/plain": [
       "1.0"
      ]
     },
     "execution_count": 16,
     "metadata": {},
     "output_type": "execute_result"
    }
   ],
   "source": [
    "3.0//2"
   ]
  },
  {
   "cell_type": "code",
   "execution_count": 4,
   "id": "ff5402a4-2feb-4033-9193-d931c2d95a1e",
   "metadata": {},
   "outputs": [
    {
     "data": {
      "text/plain": [
       "(2, 3, 4)"
      ]
     },
     "execution_count": 4,
     "metadata": {},
     "output_type": "execute_result"
    }
   ],
   "source": [
    "tuple((2,3,4))"
   ]
  },
  {
   "cell_type": "raw",
   "id": "d47911b3-8184-459f-938f-cd64aa2f8f21",
   "metadata": {},
   "source": []
  },
  {
   "cell_type": "code",
   "execution_count": 6,
   "id": "7fe3c122-ca38-4aaf-aac7-64a9fe34016f",
   "metadata": {},
   "outputs": [
    {
     "name": "stdout",
     "output_type": "stream",
     "text": [
      "(2, 3, 4)\n"
     ]
    }
   ],
   "source": [
    "print((2,3,4))"
   ]
  },
  {
   "cell_type": "code",
   "execution_count": 8,
   "id": "cf9f4d69-e982-40d8-80e6-e55b3ec7503c",
   "metadata": {},
   "outputs": [
    {
     "name": "stdout",
     "output_type": "stream",
     "text": [
      "(1, 2)\n"
     ]
    }
   ],
   "source": [
    "a,b = 1,2\n",
    "print((a,b))"
   ]
  },
  {
   "cell_type": "code",
   "execution_count": 15,
   "id": "5ff98f4c-2b6e-4e2d-bf74-5ddb24b096f8",
   "metadata": {},
   "outputs": [
    {
     "name": "stdout",
     "output_type": "stream",
     "text": [
      "(4, 4, 5, 80)\n"
     ]
    }
   ],
   "source": [
    "from math import sqrt\n",
    "\n",
    "def pyTriple(total):\n",
    "    a,b = 1,1\n",
    "    flag = 0\n",
    "    while(b<total):\n",
    "        while(a<b):\n",
    "            if(a+b+sqrt(a**2+b**2)==total):\n",
    "                a = a+1\n",
    "                flag = 1\n",
    "                return((a,b,int(sqrt(a**2+b**2)),a*b*int(sqrt(a**2+b**2))))\n",
    "            else:\n",
    "                a = a+1\n",
    "        b = b+1\n",
    "        a = 1\n",
    "    if(flag==0):\n",
    "        return('No pythagorean triple satisfies that total')\n",
    "print(pyTriple(12))"
   ]
  },
  {
   "cell_type": "code",
   "execution_count": 17,
   "id": "2babaf2a-e1ff-4053-9dd9-d2197455df62",
   "metadata": {},
   "outputs": [
    {
     "data": {
      "text/plain": [
       "2.0"
      ]
     },
     "execution_count": 17,
     "metadata": {},
     "output_type": "execute_result"
    }
   ],
   "source": [
    "0.8//0.4"
   ]
  },
  {
   "cell_type": "code",
   "execution_count": 19,
   "id": "b7d6e79c-2abd-430f-801b-1e4e9cf303bc",
   "metadata": {},
   "outputs": [
    {
     "data": {
      "text/plain": [
       "0.0"
      ]
     },
     "execution_count": 19,
     "metadata": {},
     "output_type": "execute_result"
    }
   ],
   "source": [
    "0.8%0.4"
   ]
  },
  {
   "cell_type": "code",
   "execution_count": 21,
   "id": "838ce352-ada3-4400-9034-8ff0a6d77150",
   "metadata": {},
   "outputs": [
    {
     "data": {
      "text/plain": [
       "0.30000000000000004"
      ]
     },
     "execution_count": 21,
     "metadata": {},
     "output_type": "execute_result"
    }
   ],
   "source": [
    "0.8%0.5"
   ]
  },
  {
   "cell_type": "code",
   "execution_count": 27,
   "id": "e33d0d3d-cb18-4869-bffc-214f5ccab415",
   "metadata": {},
   "outputs": [
    {
     "data": {
      "text/plain": [
       "1.0"
      ]
     },
     "execution_count": 27,
     "metadata": {},
     "output_type": "execute_result"
    }
   ],
   "source": [
    "0.8191//2**(-1)"
   ]
  },
  {
   "cell_type": "code",
   "execution_count": 35,
   "id": "71d4d9bf-78bd-4a0c-a19c-7483dce2a92d",
   "metadata": {},
   "outputs": [
    {
     "name": "stdout",
     "output_type": "stream",
     "text": [
      "[1.0, 1.0, 0.0, 1.0, 0.0, 0.0, 0.0, 1.0, 1.0, 0.0, 1.0, 1.0, 0.0, 0.0, 0.0, 0.0, 1.0, 0.0, 0.0, 0.0, 1.0, 0.0, 0.0, 1.0, 1.0, 0.0, 1.0, 0.0, 0.0, 0.0, 0.0, 0.0, 0.0, 0.0, 1.0, 0.0, 0.0, 1.0, 1.0, 1.0, 0.0, 1.0, 0.0, 1.0, 0.0, 0.0, 1.0, 0.0, 0.0, 1.0, 0.0, 1.0, 1.0]\n"
     ]
    }
   ],
   "source": [
    "x = 0.8191\n",
    "n = -1\n",
    "float_digits = []\n",
    "while((x == 0) == False):\n",
    "    float_digits.append(x//2**n)\n",
    "    x = x - (x//2**n)*2**n\n",
    "    n = n-1\n",
    "print(float_digits)"
   ]
  },
  {
   "cell_type": "code",
   "execution_count": null,
   "id": "10d90390-8e4f-41fd-97ac-f2a8eac88fd7",
   "metadata": {},
   "outputs": [],
   "source": []
  }
 ],
 "metadata": {
  "kernelspec": {
   "display_name": "Python 3 (ipykernel)",
   "language": "python",
   "name": "python3"
  },
  "language_info": {
   "codemirror_mode": {
    "name": "ipython",
    "version": 3
   },
   "file_extension": ".py",
   "mimetype": "text/x-python",
   "name": "python",
   "nbconvert_exporter": "python",
   "pygments_lexer": "ipython3",
   "version": "3.12.7"
  }
 },
 "nbformat": 4,
 "nbformat_minor": 5
}
